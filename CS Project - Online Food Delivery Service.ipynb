{
  "nbformat": 4,
  "nbformat_minor": 0,
  "metadata": {
    "colab": {
      "name": "CS_Project.ipynb",
      "provenance": [],
      "collapsed_sections": []
    },
    "kernelspec": {
      "name": "python3",
      "display_name": "Python 3"
    },
    "language_info": {
      "name": "python"
    }
  },
  "cells": [
    {
      "cell_type": "code",
      "execution_count": 1,
      "metadata": {
        "id": "0RMHG9qUO-8M",
        "colab": {
          "base_uri": "https://localhost:8080/"
        },
        "outputId": "afe57377-ea82-4f5d-9781-588e2644060b"
      },
      "outputs": [
        {
          "output_type": "stream",
          "name": "stdout",
          "text": [
            "Looking in indexes: https://pypi.org/simple, https://us-python.pkg.dev/colab-wheels/public/simple/\n",
            "Requirement already satisfied: simpy in /usr/local/lib/python3.7/dist-packages (4.0.1)\n"
          ]
        }
      ],
      "source": [
        "!pip install simpy"
      ]
    },
    {
      "cell_type": "code",
      "source": [
        "import simpy"
      ],
      "metadata": {
        "id": "0gYYpCHUPuIz"
      },
      "execution_count": 2,
      "outputs": []
    },
    {
      "cell_type": "code",
      "source": [
        "import numpy as np\n",
        "import pandas as pd\n",
        "import random\n",
        "from collections import defaultdict"
      ],
      "metadata": {
        "id": "Sx93eFK-MwyE"
      },
      "execution_count": 3,
      "outputs": []
    },
    {
      "cell_type": "code",
      "source": [
        "class Restaurant:\n",
        "    def __init__(self, env, num_instances, max_wait_time_list):\n",
        "        self.env = env\n",
        "        self.rest_manager = simpy.PriorityResource(env, num_instances[0])\n",
        "        self.cust_manager = simpy.PriorityResource(env, num_instances[1])\n",
        "        self.order_manager = simpy.PriorityResource(env, num_instances[2])\n",
        "        self.delivery_server = simpy.PriorityResource(env, num_instances[3])\n",
        "        self.pay_server = simpy.PriorityResource(env, num_instances[4])\n",
        "        self.api_port = simpy.PriorityResource(env, num_instances[5])\n",
        "        self.web_port = simpy.PriorityResource(env, num_instances[6])\n",
        "\n",
        "        self.order_phone_max_wait = max_wait_time_list[0]\n",
        "        self.order_web_max_wait = max_wait_time_list[1]\n",
        "        self.deliver_message_max_wait = max_wait_time_list[2]\n",
        "        self.check_info_phone_max_wait = max_wait_time_list[3]\n",
        "        self.check_info_web_max_wait = max_wait_time_list[4]\n",
        "        self.request_deliver_max_wait = max_wait_time_list[5]\n",
        "        self.track_order_max_wait = max_wait_time_list[6]\n",
        "        \n",
        "        self.rest_manage_service_time = 8\n",
        "        self.cust_manage_service_time = 5\n",
        "        self.order_manage_service_time = 6\n",
        "        self.delivery_service_time = 9\n",
        "        self.pay_service_time = 12\n",
        "        self.api_port_service_time = 2\n",
        "        self.web_port_service_time = 3\n",
        "\n",
        "\n",
        "    def api_port_process(self, customer):\n",
        "        yield self.env.timeout(np.random.exponential(self.api_port_service_time))\n",
        "\n",
        "    def web_port_process(self, customer):\n",
        "        yield self.env.timeout(np.random.exponential(self.web_port_service_time))\n",
        "    \n",
        "    def cust_manage_process(self, customer):\n",
        "        yield self.env.timeout(np.random.exponential(self.cust_manage_service_time))\n",
        "\n",
        "    def rest_manage_process(self, customer):\n",
        "        yield self.env.timeout(np.random.exponential(self.rest_manage_service_time))\n",
        "\n",
        "    def order_manage_process(self, customer):\n",
        "        yield self.env.timeout(np.random.exponential(self.order_manage_service_time))\n",
        "    \n",
        "    def delivery_service_process(self, customer):\n",
        "        yield self.env.timeout(np.random.exponential(self.delivery_service_time))\n",
        "\n",
        "    def pay_service_process(self, customer):\n",
        "        yield self.env.timeout(np.random.exponential(self.pay_service_time))\n"
      ],
      "metadata": {
        "id": "0aP6hcN3_Z1T"
      },
      "execution_count": 4,
      "outputs": []
    },
    {
      "cell_type": "markdown",
      "source": [
        "# Servers"
      ],
      "metadata": {
        "id": "yFYDvWIkEbnS"
      }
    },
    {
      "cell_type": "code",
      "source": [
        "def api_port_request(env, customer, restaurant, priority, request_type, \n",
        "                     waiting_threshold):\n",
        "    \n",
        "    with restaurant.api_port.request(priority=priority) as request:\n",
        "        queue_in = env.now\n",
        "        time_queue['Api Port'].append(queue_in)\n",
        "        len_queue['Api Port'].append(len(restaurant.api_port.queue))\n",
        "        \n",
        "        yield request\n",
        "\n",
        "        queue_out = env.now\n",
        "        time_queue['Api Port'].append(queue_out)\n",
        "        len_queue['Api Port'].append(len(restaurant.api_port.queue))\n",
        "\n",
        "        time_in_queue = queue_out - queue_in\n",
        "        in_queue['Api Port'].append(time_in_queue)\n",
        "        in_queue_request[request_type].append(time_in_queue)\n",
        "        \n",
        "        yield env.process(restaurant.api_port_process(customer))"
      ],
      "metadata": {
        "id": "N7xEntr2rz-t"
      },
      "execution_count": 5,
      "outputs": []
    },
    {
      "cell_type": "code",
      "source": [
        "def web_port_request(env, customer, restaurant, priority, request_type, \n",
        "                     waiting_threshold):\n",
        "    \n",
        "    with restaurant.web_port.request(priority=priority) as request:\n",
        "        queue_in = env.now\n",
        "        time_queue['Web Port'].append(queue_in)\n",
        "        len_queue['Web Port'].append(len(restaurant.web_port.queue))\n",
        "        \n",
        "        yield request\n",
        "        \n",
        "        queue_out = env.now\n",
        "        time_queue['Web Port'].append(queue_out)\n",
        "        len_queue['Web Port'].append(len(restaurant.web_port.queue))\n",
        "\n",
        "        time_in_queue = queue_out - queue_in\n",
        "        in_queue['Web Port'].append(time_in_queue)\n",
        "        in_queue_request[request_type].append(time_in_queue)\n",
        "\n",
        "        yield env.process(restaurant.web_port_process(customer))"
      ],
      "metadata": {
        "id": "ojoyNS2ptWU6"
      },
      "execution_count": 6,
      "outputs": []
    },
    {
      "cell_type": "code",
      "source": [
        "def order_manager_request(env, customer, restaurant, priority, request_type, \n",
        "                          waiting_threshold):\n",
        "    \n",
        "    with restaurant.order_manager.request(priority=priority) as request:\n",
        "        queue_in = env.now\n",
        "        time_queue['Order Manager'].append(queue_in)\n",
        "        len_queue['Order Manager'].append(len(restaurant.order_manager.queue))\n",
        "        \n",
        "        yield request\n",
        "        \n",
        "        queue_out = env.now\n",
        "        time_queue['Order Manager'].append(queue_out)\n",
        "        len_queue['Order Manager'].append(len(restaurant.order_manager.queue))\n",
        "\n",
        "        time_in_queue = queue_out - queue_in\n",
        "        in_queue['Order Manager'].append(time_in_queue)\n",
        "        in_queue_request[request_type].append(time_in_queue)\n",
        "        \n",
        "        yield env.process(restaurant.order_manage_process(customer))"
      ],
      "metadata": {
        "id": "A679XnBlsxiG"
      },
      "execution_count": 7,
      "outputs": []
    },
    {
      "cell_type": "code",
      "source": [
        "def pay_server_request(env, customer, restaurant, priority, request_type, \n",
        "                       waiting_threshold):\n",
        "    \n",
        "    with restaurant.pay_server.request(priority=priority) as request:\n",
        "        queue_in = env.now\n",
        "        time_queue['Pay Server'].append(queue_in)\n",
        "        len_queue['Pay Server'].append(len(restaurant.pay_server.queue))\n",
        "        \n",
        "        yield request\n",
        "        \n",
        "        queue_out = env.now\n",
        "        time_queue['Pay Server'].append(queue_out)\n",
        "        len_queue['Pay Server'].append(len(restaurant.pay_server.queue))\n",
        "        \n",
        "        time_in_queue = queue_out - queue_in\n",
        "        in_queue['Pay Server'].append(time_in_queue)\n",
        "        in_queue_request[request_type].append(time_in_queue)\n",
        "\n",
        "        yield env.process(restaurant.pay_service_process(customer))"
      ],
      "metadata": {
        "id": "OiMztBsetAeL"
      },
      "execution_count": 8,
      "outputs": []
    },
    {
      "cell_type": "code",
      "source": [
        "def cust_manager_request(env, customer, restaurant, priority, request_type, \n",
        "                         waiting_threshold):\n",
        "    \n",
        "    with restaurant.cust_manager.request(priority=priority) as request:\n",
        "        queue_in = env.now\n",
        "        time_queue['Customer Manager'].append(queue_in)\n",
        "        len_queue['Customer Manager'].append(len(restaurant.cust_manager.queue))\n",
        "        \n",
        "        yield request\n",
        "        \n",
        "        queue_out = env.now\n",
        "        time_queue['Customer Manager'].append(queue_out)\n",
        "        len_queue['Customer Manager'].append(len(restaurant.cust_manager.queue))\n",
        "\n",
        "        time_in_queue = queue_out - queue_in\n",
        "        in_queue['Customer Manager'].append(time_in_queue)\n",
        "        in_queue_request[request_type].append(time_in_queue)\n",
        "        \n",
        "        yield env.process(restaurant.cust_manage_process(customer))"
      ],
      "metadata": {
        "id": "qOrY2GNfuWUP"
      },
      "execution_count": 9,
      "outputs": []
    },
    {
      "cell_type": "code",
      "source": [
        "def delivery_server_request(env, customer, restaurant, priority, request_type, \n",
        "                            waiting_threshold):\n",
        "    \n",
        "    with restaurant.delivery_server.request(priority=priority) as request:\n",
        "        queue_in = env.now\n",
        "        time_queue['Delivery Server'].append(queue_in)\n",
        "        len_queue['Delivery Server'].append(len(restaurant.delivery_server.queue))\n",
        "        \n",
        "        yield request\n",
        "        \n",
        "        queue_out = env.now\n",
        "        time_queue['Delivery Server'].append(queue_out)\n",
        "        len_queue['Delivery Server'].append(len(restaurant.delivery_server.queue))\n",
        "\n",
        "        time_in_queue = queue_out - queue_in\n",
        "        in_queue['Delivery Server'].append(time_in_queue)\n",
        "        in_queue_request[request_type].append(time_in_queue)\n",
        "\n",
        "        yield env.process(restaurant.delivery_service_process(customer))"
      ],
      "metadata": {
        "id": "UgtWbD-YvIl3"
      },
      "execution_count": 10,
      "outputs": []
    },
    {
      "cell_type": "code",
      "source": [
        "def rest_manager_request(env, customer, restaurant, priority, request_type,\n",
        "                         waiting_threshold):\n",
        "\n",
        "    with restaurant.rest_manager.request(priority=priority) as request:\n",
        "        queue_in = env.now\n",
        "        time_queue['Restaurant Manager'].append(queue_in)\n",
        "        len_queue['Restaurant Manager'].append(len(restaurant.rest_manager.queue))\n",
        "\n",
        "        yield request\n",
        "        queue_out = env.now\n",
        "        time_queue['Restaurant Manager'].append(queue_out)\n",
        "        len_queue['Restaurant Manager'].append(len(restaurant.rest_manager.queue))\n",
        "        \n",
        "        time_in_queue = queue_out - queue_in\n",
        "        in_queue['Restaurant Manager'].append(time_in_queue)\n",
        "        in_queue_request[request_type].append(time_in_queue)\n",
        "        \n",
        "        yield env.process(restaurant.rest_manage_process(customer))"
      ],
      "metadata": {
        "id": "BoJcgcF_wAkz"
      },
      "execution_count": 11,
      "outputs": []
    },
    {
      "cell_type": "markdown",
      "source": [
        "# Requests"
      ],
      "metadata": {
        "id": "pnjKbGL5EWj6"
      }
    },
    {
      "cell_type": "code",
      "source": [
        "def order_phone(env, customer, restaurant):\n",
        "    arrival_time = env.now\n",
        "    priority = 1\n",
        "    waiting_threshold = env.timeout(restaurant.order_phone_max_wait)\n",
        "\n",
        "    yield env.process(api_port_request(env, customer, restaurant, priority,\n",
        "                                       \"Order Phone\", waiting_threshold))\n",
        "\n",
        "    yield env.process(order_manager_request(env, customer, restaurant, priority,\n",
        "                                            \"Order Phone\", waiting_threshold))\n",
        "\n",
        "    yield env.process(pay_server_request(env, customer, restaurant, priority,\n",
        "                                         \"Order Phone\", waiting_threshold))"
      ],
      "metadata": {
        "id": "Xzu9oGCLXKmN"
      },
      "execution_count": 12,
      "outputs": []
    },
    {
      "cell_type": "code",
      "source": [
        "def order_web(env, customer, restaurant):\n",
        "    arrival_time = env.now\n",
        "    priority = 1\n",
        "    waiting_threshold = env.timeout(restaurant.order_web_max_wait)\n",
        "\n",
        "    yield env.process(web_port_request(env, customer, restaurant, priority,\n",
        "                                       \"Order Web\", waiting_threshold))\n",
        "\n",
        "    yield env.process(order_manager_request(env, customer, restaurant, priority,\n",
        "                                            \"Order Web\", waiting_threshold))\n",
        "\n",
        "    yield env.process(pay_server_request(env, customer, restaurant, priority,\n",
        "                                         \"Order Web\", waiting_threshold))"
      ],
      "metadata": {
        "id": "rr-4liMLX7J3"
      },
      "execution_count": 13,
      "outputs": []
    },
    {
      "cell_type": "code",
      "source": [
        "def delivery_message(env, customer, restaurant):\n",
        "    arrival_time = env.now\n",
        "    priority = 2\n",
        "    waiting_threshold = env.timeout(restaurant.deliver_message_max_wait)\n",
        "\n",
        "    yield env.process(api_port_request(env, customer, restaurant, priority,\n",
        "                                       \"Delivery Message\", waiting_threshold))\n",
        "\n",
        "    yield env.process(cust_manager_request(env, customer, restaurant, priority,\n",
        "                                           \"Delivery Message\", waiting_threshold))\n",
        "\n",
        "    yield env.process(delivery_server_request(env, customer, restaurant, priority,\n",
        "                                              \"Delivery Message\", waiting_threshold))"
      ],
      "metadata": {
        "id": "cFjthbE_X4s3"
      },
      "execution_count": 14,
      "outputs": []
    },
    {
      "cell_type": "code",
      "source": [
        "def rest_check_info_phone(env, customer, restaurant):\n",
        "    arrival_time = env.now\n",
        "    priority = 2\n",
        "    waiting_threshold = env.timeout(restaurant.check_info_phone_max_wait)\n",
        "\n",
        "    yield env.process(api_port_request(env, customer, restaurant, priority,\n",
        "                                       \"Check Info Phone\", waiting_threshold))\n",
        "    \n",
        "    yield env.process(rest_manager_request(env, customer, restaurant, priority,\n",
        "                                           \"Check Info Phone\", waiting_threshold))"
      ],
      "metadata": {
        "id": "M_Mzrpz8X2Xn"
      },
      "execution_count": 15,
      "outputs": []
    },
    {
      "cell_type": "code",
      "source": [
        "def rest_check_info_web(env, customer, restaurant):\n",
        "    arrival_time = env.now\n",
        "    priority = 2\n",
        "    waiting_threshold = env.timeout(restaurant.check_info_web_max_wait)\n",
        "\n",
        "    yield env.process(web_port_request(env, customer, restaurant, priority,\n",
        "                                       \"Check Info Web\", waiting_threshold))\n",
        "\n",
        "    yield env.process(rest_manager_request(env, customer, restaurant, priority,\n",
        "                                           \"Check Info Web\", waiting_threshold))"
      ],
      "metadata": {
        "id": "UAdpSbxdXzu4"
      },
      "execution_count": 16,
      "outputs": []
    },
    {
      "cell_type": "code",
      "source": [
        "def request_delivery(env, customer, restaurant):\n",
        "    arrival_time = env.now\n",
        "    priority = 1\n",
        "    waiting_threshold = env.timeout(restaurant.request_deliver_max_wait)\n",
        "\n",
        "    yield env.process(web_port_request(env, customer, restaurant, priority,\n",
        "                                       \"Request Delivery\", waiting_threshold))\n",
        "\n",
        "    yield env.process(rest_manager_request(env, customer, restaurant, priority,\n",
        "                                           \"Request Delivery\", waiting_threshold))\n",
        "\n",
        "    yield env.process(delivery_server_request(env, customer, restaurant, priority, \n",
        "                                              \"Request Delivery\", waiting_threshold))"
      ],
      "metadata": {
        "id": "pWJOWN8LXw6f"
      },
      "execution_count": 17,
      "outputs": []
    },
    {
      "cell_type": "code",
      "source": [
        "def track_order(env, customer, restaurant):\n",
        "    arrival_time = env.now\n",
        "    priority = 2\n",
        "    waiting_threshold = env.timeout(restaurant.track_order_max_wait)\n",
        "\n",
        "    yield env.process(api_port_request(env, customer, restaurant, priority,\n",
        "                                       \"Track Order\", waiting_threshold))\n",
        "\n",
        "    yield env.process(order_manager_request(env, customer, restaurant, priority,\n",
        "                                            \"Track Order\", waiting_threshold))"
      ],
      "metadata": {
        "id": "m7H1scONXu2_"
      },
      "execution_count": 18,
      "outputs": []
    },
    {
      "cell_type": "markdown",
      "source": [
        "# Run Simulation"
      ],
      "metadata": {
        "id": "rfIAFTffEg0U"
      }
    },
    {
      "cell_type": "code",
      "source": [
        "def go_to_restaurant(env, customer, restaurant):\n",
        "        random_num = random.randint(1, 101)\n",
        "\n",
        "        if (1 <= random_num <= 20):\n",
        "            yield env.process(order_phone(env, customer, restaurant))\n",
        "        elif (20 < random_num <= 30):\n",
        "            yield env.process(order_web(env, customer, restaurant))\n",
        "        elif (30 < random_num <= 35):\n",
        "            yield env.process(delivery_message(env, customer, restaurant))\n",
        "        elif (35 < random_num <= 60):\n",
        "            yield env.process(rest_check_info_phone(env, customer, restaurant))\n",
        "        elif (60 < random_num <= 75):\n",
        "            yield env.process(rest_check_info_web(env, customer, restaurant))\n",
        "        elif (75 < random_num <= 95):\n",
        "            yield env.process(request_delivery(env, customer, restaurant))\n",
        "        else:\n",
        "            yield env.process(track_order(env, customer, restaurant))"
      ],
      "metadata": {
        "id": "f0-ESQ3jW3uu"
      },
      "execution_count": 19,
      "outputs": []
    },
    {
      "cell_type": "code",
      "source": [
        "def run_restaurant(env, num_instances, arrival_rate, max_wait_time_list):\n",
        "    restaurant = Restaurant(env, num_instances, max_wait_time_list)\n",
        "\n",
        "    customer = 0\n",
        "    env.process(go_to_restaurant(env, customer, restaurant))\n",
        "\n",
        "    while True:\n",
        "        yield env.timeout(arrival_rate)\n",
        "        \n",
        "        customer += 1\n",
        "        env.process(go_to_restaurant(env, customer, restaurant))"
      ],
      "metadata": {
        "id": "UNkz6NMfZNXh"
      },
      "execution_count": 20,
      "outputs": []
    },
    {
      "cell_type": "markdown",
      "source": [
        "# Test"
      ],
      "metadata": {
        "id": "OnlTwEDAEREz"
      }
    },
    {
      "cell_type": "code",
      "source": [
        "# test 1\n",
        "num_instances = [1, 1, 1, 2, 5, 3, 2]\n",
        "arrival_rate = 1/30\n",
        "simulation_time = 1000\n",
        "max_wait_time_list = [25, 30, 25, 30, 30, 40, 20]"
      ],
      "metadata": {
        "id": "OqSn0ohxNDaj"
      },
      "execution_count": 21,
      "outputs": []
    },
    {
      "cell_type": "code",
      "source": [
        "# test 2\n",
        "num_instances = [2, 3, 1, 1, 1, 6, 6]\n",
        "arrival_rate = 1/30\n",
        "simulation_time = 1000\n",
        "max_wait_time_list = [25, 30, 25, 30, 30, 40, 20]"
      ],
      "metadata": {
        "id": "-KpmlkifGvnq"
      },
      "execution_count": 22,
      "outputs": []
    },
    {
      "cell_type": "code",
      "source": [
        "# test 3\n",
        "num_instances = [4, 1, 4, 4, 4, 10, 10]\n",
        "arrival_rate = 1/30\n",
        "simulation_time = 1000\n",
        "max_wait_time_list = [25, 30, 25, 30, 30, 40, 20]"
      ],
      "metadata": {
        "id": "FUxb3A7id4wM"
      },
      "execution_count": 40,
      "outputs": []
    },
    {
      "cell_type": "code",
      "source": [
        "# Improvement\n",
        "num_instances = [30, 10, 30, 30, 30, 30, 30]\n",
        "arrival_rate = 1/30\n",
        "simulation_time = 1000\n",
        "max_wait_time_list = [25, 30, 25, 30, 30, 40, 20]"
      ],
      "metadata": {
        "id": "-WuNJNQvhSJc"
      },
      "execution_count": 81,
      "outputs": []
    },
    {
      "cell_type": "code",
      "source": [
        "in_queue = defaultdict(list)\n",
        "time_queue, len_queue = defaultdict(list), defaultdict(list)\n",
        "in_queue_request = defaultdict(list)"
      ],
      "metadata": {
        "id": "ogZRp6FyF_77"
      },
      "execution_count": 82,
      "outputs": []
    },
    {
      "cell_type": "code",
      "source": [
        "env = simpy.Environment()\n",
        "env.process(run_restaurant(env, num_instances, arrival_rate, max_wait_time_list))\n",
        "env.run(until=simulation_time)"
      ],
      "metadata": {
        "id": "MuZ9Z5cl-Jp4"
      },
      "execution_count": 83,
      "outputs": []
    },
    {
      "cell_type": "code",
      "source": [
        "def get_df_server(time_queue, len_queue, server):\n",
        "    df1 = pd.DataFrame(time_queue[server], columns=['time'])\n",
        "    df2 = pd.DataFrame(len_queue[server], columns=['len'])\n",
        "    df_server = pd.concat([df1, df2], axis=1)\n",
        "    return df_server"
      ],
      "metadata": {
        "id": "ttkaT38GohWg"
      },
      "execution_count": 84,
      "outputs": []
    },
    {
      "cell_type": "code",
      "source": [
        "def get_avg_queue(df_server):\n",
        "    df_server['delta time'] = df_server['time'].shift(-1) - df_server['time']\n",
        "    df_server = df_server[0:-1]\n",
        "    try:\n",
        "        avg = np.average(df_server['len'], weights=df_server['delta time'])\n",
        "    except ZeroDivisionError:\n",
        "        avg = 0\n",
        "    return avg"
      ],
      "metadata": {
        "id": "olNoBsMWreVP"
      },
      "execution_count": 85,
      "outputs": []
    },
    {
      "cell_type": "code",
      "source": [
        "def get_server_utilization(df_server):\n",
        "    sum_server_free = df_server[df_server['len'] == 0]['delta time'].sum()\n",
        "    sum_server_free += (simulation_time - df_server['time'].iloc[-1] \n",
        "                        if df_server['len'].iloc[-1] == 0 else 0)\n",
        "    first_event = df_server['time'].iloc[0]\n",
        "    sum_server_free = sum_server_free + first_event\n",
        "    utilization = round((1 - sum_server_free / simulation_time) * 100, 2)\n",
        "    return utilization"
      ],
      "metadata": {
        "id": "Jb696rCro6Gi"
      },
      "execution_count": 86,
      "outputs": []
    },
    {
      "cell_type": "code",
      "source": [
        "df_server = {}\n",
        "for server in sorted(time_queue.keys()):\n",
        "    df_server[server] = get_df_server(time_queue, len_queue, server)\n",
        "\n",
        "avg_queue_len = {'Api Port': 0, \n",
        "                'Web Port': 0, \n",
        "                'Order Manager': 0, \n",
        "                'Pay Server': 0, \n",
        "                'Customer Manager': 0, \n",
        "                'Delivery Server': 0, \n",
        "                'Restaurant Manager': 0\n",
        "                }\n",
        "for server in sorted(len_queue.keys()):\n",
        "    avg_queue_len[server] = get_avg_queue(df_server[server])\n",
        "\n",
        "avg_delay = {'Api Port': 0, \n",
        "                'Web Port': 0, \n",
        "                'Order Manager': 0, \n",
        "                'Pay Server': 0, \n",
        "                'Customer Manager': 0, \n",
        "                'Delivery Server': 0, \n",
        "                'Restaurant Manager': 0\n",
        "                }\n",
        "for key in sorted(in_queue.keys()):\n",
        "    avg_delay[key] = np.mean(in_queue[key])\n",
        "\n",
        "server_utilization = {'Api Port': 0, \n",
        "                'Web Port': 0, \n",
        "                'Order Manager': 0, \n",
        "                'Pay Server': 0, \n",
        "                'Customer Manager': 0, \n",
        "                'Delivery Server': 0, \n",
        "                'Restaurant Manager': 0\n",
        "                }\n",
        "for server in sorted(df_server.keys()):\n",
        "    server_utilization[server] = get_server_utilization(df_server[server])"
      ],
      "metadata": {
        "id": "CNEaFPSeEDIS"
      },
      "execution_count": 87,
      "outputs": []
    },
    {
      "cell_type": "code",
      "source": [
        "pd.DataFrame({\"Average Queue Length\": list(avg_queue_len.values()),\n",
        "              \"Average Waiting Time\": list(avg_delay.values()), \n",
        "              \"Server Utilization\": list(server_utilization.values())}, avg_queue_len.keys())"
      ],
      "metadata": {
        "id": "dNcbTQlH2zp2",
        "colab": {
          "base_uri": "https://localhost:8080/",
          "height": 269
        },
        "outputId": "04b38fc0-57af-4224-d581-57a450fc8fad"
      },
      "execution_count": 88,
      "outputs": [
        {
          "output_type": "execute_result",
          "data": {
            "text/plain": [
              "                    Average Queue Length  Average Waiting Time  \\\n",
              "Api Port                      868.554336             49.160177   \n",
              "Web Port                     1684.261087             40.034030   \n",
              "Order Manager                2751.333593            226.082159   \n",
              "Pay Server                   1181.597320            232.411595   \n",
              "Customer Manager                0.242314              0.192928   \n",
              "Delivery Server               820.742160             60.233669   \n",
              "Restaurant Manager           4644.731893            188.307207   \n",
              "\n",
              "                    Server Utilization  \n",
              "Api Port                         99.60  \n",
              "Web Port                         99.42  \n",
              "Order Manager                    99.47  \n",
              "Pay Server                       98.38  \n",
              "Customer Manager                  8.13  \n",
              "Delivery Server                  97.97  \n",
              "Restaurant Manager               99.65  "
            ],
            "text/html": [
              "\n",
              "  <div id=\"df-c7451e3b-a843-4590-a313-5796311ff240\">\n",
              "    <div class=\"colab-df-container\">\n",
              "      <div>\n",
              "<style scoped>\n",
              "    .dataframe tbody tr th:only-of-type {\n",
              "        vertical-align: middle;\n",
              "    }\n",
              "\n",
              "    .dataframe tbody tr th {\n",
              "        vertical-align: top;\n",
              "    }\n",
              "\n",
              "    .dataframe thead th {\n",
              "        text-align: right;\n",
              "    }\n",
              "</style>\n",
              "<table border=\"1\" class=\"dataframe\">\n",
              "  <thead>\n",
              "    <tr style=\"text-align: right;\">\n",
              "      <th></th>\n",
              "      <th>Average Queue Length</th>\n",
              "      <th>Average Waiting Time</th>\n",
              "      <th>Server Utilization</th>\n",
              "    </tr>\n",
              "  </thead>\n",
              "  <tbody>\n",
              "    <tr>\n",
              "      <th>Api Port</th>\n",
              "      <td>868.554336</td>\n",
              "      <td>49.160177</td>\n",
              "      <td>99.60</td>\n",
              "    </tr>\n",
              "    <tr>\n",
              "      <th>Web Port</th>\n",
              "      <td>1684.261087</td>\n",
              "      <td>40.034030</td>\n",
              "      <td>99.42</td>\n",
              "    </tr>\n",
              "    <tr>\n",
              "      <th>Order Manager</th>\n",
              "      <td>2751.333593</td>\n",
              "      <td>226.082159</td>\n",
              "      <td>99.47</td>\n",
              "    </tr>\n",
              "    <tr>\n",
              "      <th>Pay Server</th>\n",
              "      <td>1181.597320</td>\n",
              "      <td>232.411595</td>\n",
              "      <td>98.38</td>\n",
              "    </tr>\n",
              "    <tr>\n",
              "      <th>Customer Manager</th>\n",
              "      <td>0.242314</td>\n",
              "      <td>0.192928</td>\n",
              "      <td>8.13</td>\n",
              "    </tr>\n",
              "    <tr>\n",
              "      <th>Delivery Server</th>\n",
              "      <td>820.742160</td>\n",
              "      <td>60.233669</td>\n",
              "      <td>97.97</td>\n",
              "    </tr>\n",
              "    <tr>\n",
              "      <th>Restaurant Manager</th>\n",
              "      <td>4644.731893</td>\n",
              "      <td>188.307207</td>\n",
              "      <td>99.65</td>\n",
              "    </tr>\n",
              "  </tbody>\n",
              "</table>\n",
              "</div>\n",
              "      <button class=\"colab-df-convert\" onclick=\"convertToInteractive('df-c7451e3b-a843-4590-a313-5796311ff240')\"\n",
              "              title=\"Convert this dataframe to an interactive table.\"\n",
              "              style=\"display:none;\">\n",
              "        \n",
              "  <svg xmlns=\"http://www.w3.org/2000/svg\" height=\"24px\"viewBox=\"0 0 24 24\"\n",
              "       width=\"24px\">\n",
              "    <path d=\"M0 0h24v24H0V0z\" fill=\"none\"/>\n",
              "    <path d=\"M18.56 5.44l.94 2.06.94-2.06 2.06-.94-2.06-.94-.94-2.06-.94 2.06-2.06.94zm-11 1L8.5 8.5l.94-2.06 2.06-.94-2.06-.94L8.5 2.5l-.94 2.06-2.06.94zm10 10l.94 2.06.94-2.06 2.06-.94-2.06-.94-.94-2.06-.94 2.06-2.06.94z\"/><path d=\"M17.41 7.96l-1.37-1.37c-.4-.4-.92-.59-1.43-.59-.52 0-1.04.2-1.43.59L10.3 9.45l-7.72 7.72c-.78.78-.78 2.05 0 2.83L4 21.41c.39.39.9.59 1.41.59.51 0 1.02-.2 1.41-.59l7.78-7.78 2.81-2.81c.8-.78.8-2.07 0-2.86zM5.41 20L4 18.59l7.72-7.72 1.47 1.35L5.41 20z\"/>\n",
              "  </svg>\n",
              "      </button>\n",
              "      \n",
              "  <style>\n",
              "    .colab-df-container {\n",
              "      display:flex;\n",
              "      flex-wrap:wrap;\n",
              "      gap: 12px;\n",
              "    }\n",
              "\n",
              "    .colab-df-convert {\n",
              "      background-color: #E8F0FE;\n",
              "      border: none;\n",
              "      border-radius: 50%;\n",
              "      cursor: pointer;\n",
              "      display: none;\n",
              "      fill: #1967D2;\n",
              "      height: 32px;\n",
              "      padding: 0 0 0 0;\n",
              "      width: 32px;\n",
              "    }\n",
              "\n",
              "    .colab-df-convert:hover {\n",
              "      background-color: #E2EBFA;\n",
              "      box-shadow: 0px 1px 2px rgba(60, 64, 67, 0.3), 0px 1px 3px 1px rgba(60, 64, 67, 0.15);\n",
              "      fill: #174EA6;\n",
              "    }\n",
              "\n",
              "    [theme=dark] .colab-df-convert {\n",
              "      background-color: #3B4455;\n",
              "      fill: #D2E3FC;\n",
              "    }\n",
              "\n",
              "    [theme=dark] .colab-df-convert:hover {\n",
              "      background-color: #434B5C;\n",
              "      box-shadow: 0px 1px 3px 1px rgba(0, 0, 0, 0.15);\n",
              "      filter: drop-shadow(0px 1px 2px rgba(0, 0, 0, 0.3));\n",
              "      fill: #FFFFFF;\n",
              "    }\n",
              "  </style>\n",
              "\n",
              "      <script>\n",
              "        const buttonEl =\n",
              "          document.querySelector('#df-c7451e3b-a843-4590-a313-5796311ff240 button.colab-df-convert');\n",
              "        buttonEl.style.display =\n",
              "          google.colab.kernel.accessAllowed ? 'block' : 'none';\n",
              "\n",
              "        async function convertToInteractive(key) {\n",
              "          const element = document.querySelector('#df-c7451e3b-a843-4590-a313-5796311ff240');\n",
              "          const dataTable =\n",
              "            await google.colab.kernel.invokeFunction('convertToInteractive',\n",
              "                                                     [key], {});\n",
              "          if (!dataTable) return;\n",
              "\n",
              "          const docLinkHtml = 'Like what you see? Visit the ' +\n",
              "            '<a target=\"_blank\" href=https://colab.research.google.com/notebooks/data_table.ipynb>data table notebook</a>'\n",
              "            + ' to learn more about interactive tables.';\n",
              "          element.innerHTML = '';\n",
              "          dataTable['output_type'] = 'display_data';\n",
              "          await google.colab.output.renderOutput(dataTable, element);\n",
              "          const docLink = document.createElement('div');\n",
              "          docLink.innerHTML = docLinkHtml;\n",
              "          element.appendChild(docLink);\n",
              "        }\n",
              "      </script>\n",
              "    </div>\n",
              "  </div>\n",
              "  "
            ]
          },
          "metadata": {},
          "execution_count": 88
        }
      ]
    },
    {
      "cell_type": "code",
      "source": [
        "avg_delay_request = {\"Order Phone\": 0, \n",
        "                     \"Order Web\": 0, \n",
        "                     \"Delivery Message\": 0, \n",
        "                     \"Check Info Phone\": 0, \n",
        "                     \"Check Info Web\": 0, \n",
        "                     \"Request Delivery\": 0, \n",
        "                     \"Track Order\": 0\n",
        "                     }\n",
        "for key in sorted(in_queue_request.keys()):\n",
        "    avg_delay_request[key] = np.mean(in_queue_request[key])\n",
        "\n",
        "pd.DataFrame({\"Average Waiting Time\": list(avg_delay_request.values())}, avg_delay_request.keys())"
      ],
      "metadata": {
        "id": "_bWbELc18Zzl",
        "colab": {
          "base_uri": "https://localhost:8080/",
          "height": 269
        },
        "outputId": "d3e57df9-c9c1-4ecb-df19-9f32134b580d"
      },
      "execution_count": 89,
      "outputs": [
        {
          "output_type": "execute_result",
          "data": {
            "text/plain": [
              "                  Average Waiting Time\n",
              "Order Phone                 103.796069\n",
              "Order Web                   105.246588\n",
              "Delivery Message             40.931966\n",
              "Check Info Phone             81.587477\n",
              "Check Info Web              410.425440\n",
              "Request Delivery             69.692326\n",
              "Track Order                  81.922458"
            ],
            "text/html": [
              "\n",
              "  <div id=\"df-0352bc38-cb58-47e1-8982-b6b6904f1c6a\">\n",
              "    <div class=\"colab-df-container\">\n",
              "      <div>\n",
              "<style scoped>\n",
              "    .dataframe tbody tr th:only-of-type {\n",
              "        vertical-align: middle;\n",
              "    }\n",
              "\n",
              "    .dataframe tbody tr th {\n",
              "        vertical-align: top;\n",
              "    }\n",
              "\n",
              "    .dataframe thead th {\n",
              "        text-align: right;\n",
              "    }\n",
              "</style>\n",
              "<table border=\"1\" class=\"dataframe\">\n",
              "  <thead>\n",
              "    <tr style=\"text-align: right;\">\n",
              "      <th></th>\n",
              "      <th>Average Waiting Time</th>\n",
              "    </tr>\n",
              "  </thead>\n",
              "  <tbody>\n",
              "    <tr>\n",
              "      <th>Order Phone</th>\n",
              "      <td>103.796069</td>\n",
              "    </tr>\n",
              "    <tr>\n",
              "      <th>Order Web</th>\n",
              "      <td>105.246588</td>\n",
              "    </tr>\n",
              "    <tr>\n",
              "      <th>Delivery Message</th>\n",
              "      <td>40.931966</td>\n",
              "    </tr>\n",
              "    <tr>\n",
              "      <th>Check Info Phone</th>\n",
              "      <td>81.587477</td>\n",
              "    </tr>\n",
              "    <tr>\n",
              "      <th>Check Info Web</th>\n",
              "      <td>410.425440</td>\n",
              "    </tr>\n",
              "    <tr>\n",
              "      <th>Request Delivery</th>\n",
              "      <td>69.692326</td>\n",
              "    </tr>\n",
              "    <tr>\n",
              "      <th>Track Order</th>\n",
              "      <td>81.922458</td>\n",
              "    </tr>\n",
              "  </tbody>\n",
              "</table>\n",
              "</div>\n",
              "      <button class=\"colab-df-convert\" onclick=\"convertToInteractive('df-0352bc38-cb58-47e1-8982-b6b6904f1c6a')\"\n",
              "              title=\"Convert this dataframe to an interactive table.\"\n",
              "              style=\"display:none;\">\n",
              "        \n",
              "  <svg xmlns=\"http://www.w3.org/2000/svg\" height=\"24px\"viewBox=\"0 0 24 24\"\n",
              "       width=\"24px\">\n",
              "    <path d=\"M0 0h24v24H0V0z\" fill=\"none\"/>\n",
              "    <path d=\"M18.56 5.44l.94 2.06.94-2.06 2.06-.94-2.06-.94-.94-2.06-.94 2.06-2.06.94zm-11 1L8.5 8.5l.94-2.06 2.06-.94-2.06-.94L8.5 2.5l-.94 2.06-2.06.94zm10 10l.94 2.06.94-2.06 2.06-.94-2.06-.94-.94-2.06-.94 2.06-2.06.94z\"/><path d=\"M17.41 7.96l-1.37-1.37c-.4-.4-.92-.59-1.43-.59-.52 0-1.04.2-1.43.59L10.3 9.45l-7.72 7.72c-.78.78-.78 2.05 0 2.83L4 21.41c.39.39.9.59 1.41.59.51 0 1.02-.2 1.41-.59l7.78-7.78 2.81-2.81c.8-.78.8-2.07 0-2.86zM5.41 20L4 18.59l7.72-7.72 1.47 1.35L5.41 20z\"/>\n",
              "  </svg>\n",
              "      </button>\n",
              "      \n",
              "  <style>\n",
              "    .colab-df-container {\n",
              "      display:flex;\n",
              "      flex-wrap:wrap;\n",
              "      gap: 12px;\n",
              "    }\n",
              "\n",
              "    .colab-df-convert {\n",
              "      background-color: #E8F0FE;\n",
              "      border: none;\n",
              "      border-radius: 50%;\n",
              "      cursor: pointer;\n",
              "      display: none;\n",
              "      fill: #1967D2;\n",
              "      height: 32px;\n",
              "      padding: 0 0 0 0;\n",
              "      width: 32px;\n",
              "    }\n",
              "\n",
              "    .colab-df-convert:hover {\n",
              "      background-color: #E2EBFA;\n",
              "      box-shadow: 0px 1px 2px rgba(60, 64, 67, 0.3), 0px 1px 3px 1px rgba(60, 64, 67, 0.15);\n",
              "      fill: #174EA6;\n",
              "    }\n",
              "\n",
              "    [theme=dark] .colab-df-convert {\n",
              "      background-color: #3B4455;\n",
              "      fill: #D2E3FC;\n",
              "    }\n",
              "\n",
              "    [theme=dark] .colab-df-convert:hover {\n",
              "      background-color: #434B5C;\n",
              "      box-shadow: 0px 1px 3px 1px rgba(0, 0, 0, 0.15);\n",
              "      filter: drop-shadow(0px 1px 2px rgba(0, 0, 0, 0.3));\n",
              "      fill: #FFFFFF;\n",
              "    }\n",
              "  </style>\n",
              "\n",
              "      <script>\n",
              "        const buttonEl =\n",
              "          document.querySelector('#df-0352bc38-cb58-47e1-8982-b6b6904f1c6a button.colab-df-convert');\n",
              "        buttonEl.style.display =\n",
              "          google.colab.kernel.accessAllowed ? 'block' : 'none';\n",
              "\n",
              "        async function convertToInteractive(key) {\n",
              "          const element = document.querySelector('#df-0352bc38-cb58-47e1-8982-b6b6904f1c6a');\n",
              "          const dataTable =\n",
              "            await google.colab.kernel.invokeFunction('convertToInteractive',\n",
              "                                                     [key], {});\n",
              "          if (!dataTable) return;\n",
              "\n",
              "          const docLinkHtml = 'Like what you see? Visit the ' +\n",
              "            '<a target=\"_blank\" href=https://colab.research.google.com/notebooks/data_table.ipynb>data table notebook</a>'\n",
              "            + ' to learn more about interactive tables.';\n",
              "          element.innerHTML = '';\n",
              "          dataTable['output_type'] = 'display_data';\n",
              "          await google.colab.output.renderOutput(dataTable, element);\n",
              "          const docLink = document.createElement('div');\n",
              "          docLink.innerHTML = docLinkHtml;\n",
              "          element.appendChild(docLink);\n",
              "        }\n",
              "      </script>\n",
              "    </div>\n",
              "  </div>\n",
              "  "
            ]
          },
          "metadata": {},
          "execution_count": 89
        }
      ]
    },
    {
      "cell_type": "code",
      "source": [
        "num_requests = sum([len(requests) for requests in in_queue_request.values()])\n",
        "total_avg_waiting_time = sum([sum(value) for value in in_queue_request.values()])/num_requests\n",
        "print(f\"Total Number of Requests: {num_requests} with Average of {total_avg_waiting_time} Waiting Time\")"
      ],
      "metadata": {
        "id": "IXJXKmejAUHB",
        "colab": {
          "base_uri": "https://localhost:8080/"
        },
        "outputId": "af1fd93d-db0c-4147-c04a-3d13c7a5c94f"
      },
      "execution_count": 90,
      "outputs": [
        {
          "output_type": "stream",
          "name": "stdout",
          "text": [
            "Total Number of Requests: 40747 with Average of 92.16793384867321 Waiting Time\n"
          ]
        }
      ]
    }
  ]
}